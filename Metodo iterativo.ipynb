{
 "cells": [
  {
   "cell_type": "code",
   "execution_count": 1,
   "metadata": {
    "collapsed": true
   },
   "outputs": [],
   "source": [
    "## Métodos iterativos para solução de sistemas lineares"
   ]
  },
  {
   "cell_type": "code",
   "execution_count": 2,
   "metadata": {
    "collapsed": true
   },
   "outputs": [],
   "source": [
    "import numpy as np"
   ]
  },
  {
   "cell_type": "code",
   "execution_count": 35,
   "metadata": {
    "collapsed": true
   },
   "outputs": [],
   "source": [
    "#Vamos resolver o sistema linear Mx = b\n",
    "# Para isso, declaramos a matriz M e o vetor b\n",
    "M = np.array([\n",
    "    [-5.1,2,3],\n",
    "    [5,8,2],\n",
    "    [1,0,3],\n",
    "])\n",
    "b = np.array([1,2,3])"
   ]
  },
  {
   "cell_type": "code",
   "execution_count": 36,
   "metadata": {},
   "outputs": [
    {
     "data": {
      "text/plain": [
       "array([ 0.27842227, -0.15081206,  0.90719258])"
      ]
     },
     "execution_count": 36,
     "metadata": {},
     "output_type": "execute_result"
    }
   ],
   "source": [
    "#Encontramos a resposta explicitamente como referência\n",
    "np.linalg.solve(M,b)"
   ]
  },
  {
   "cell_type": "code",
   "execution_count": 37,
   "metadata": {},
   "outputs": [],
   "source": [
    "#Método de Jacobi\n",
    "#Extrai a diagonal de uma matriz e pega a sua inversa\n",
    "D = np.diag(np.diag(M))\n",
    "D_inversa = np.diag(1/np.diag(M))"
   ]
  },
  {
   "cell_type": "code",
   "execution_count": 38,
   "metadata": {},
   "outputs": [
    {
     "name": "stdout",
     "output_type": "stream",
     "text": [
      "Matriz resto:\n",
      "[[ 0.  2.  3.]\n",
      " [ 5.  0.  2.]\n",
      " [ 1.  0.  0.]]\n"
     ]
    }
   ],
   "source": [
    "#Extraimos a matriz B\n",
    "R = M - D\n",
    "\n",
    "print(\"Matriz resto:\")\n",
    "print(R)"
   ]
  },
  {
   "cell_type": "code",
   "execution_count": 45,
   "metadata": {},
   "outputs": [
    {
     "name": "stdout",
     "output_type": "stream",
     "text": [
      "iteração 0\n",
      "[ 2.35294118 -1.125       0.66666667]\n",
      "iteração 1\n",
      "[-0.24509804 -1.3872549   0.21568627]\n",
      "iteração 2\n",
      "[-0.61322568  0.34926471  1.08169935]\n",
      "iteração 3\n",
      "[ 0.57718185  0.36284121  1.20440856]\n",
      "iteração 4\n",
      "[ 0.65468787 -0.4118408   0.80760605]\n",
      "iteração 5\n",
      "[ 0.11747775 -0.36108143  0.78177071]\n",
      "iteração 6\n",
      "[ 0.12218613 -0.01886627  0.96084075]\n",
      "iteração 7\n",
      "[ 0.36172347 -0.06657652  0.95927129]\n",
      "iteração 8\n",
      "[ 0.34209036 -0.21589499  0.87942551]\n",
      "iteração 9\n",
      "[ 0.23656599 -0.18366285  0.88596988]\n",
      "iteração 10\n",
      "[ 0.25305567 -0.11934621  0.92114467]\n",
      "iteração 11\n",
      "[ 0.29896894 -0.13844596  0.91564811]\n",
      "iteração 12\n",
      "[ 0.28824557 -0.16576761  0.90034369]\n",
      "iteração 13\n",
      "[ 0.2685286  -0.1552394   0.90391814]\n",
      "iteração 14\n",
      "[ 0.27475993 -0.14380991  0.91049047]\n",
      "iteração 15\n",
      "[ 0.28310815 -0.14934757  0.90841336]\n",
      "iteração 16\n",
      "[ 0.27971469 -0.15404594  0.90563062]\n",
      "iteração 17\n",
      "[ 0.27623529 -0.15122934  0.90676177]\n",
      "iteração 18\n",
      "[ 0.27800522 -0.1493375   0.90792157]\n",
      "iteração 19\n",
      "[ 0.27942936 -0.15073366  0.90733159]\n",
      "iteração 20\n",
      "[ 0.2785348  -0.15147625  0.90685688]\n",
      "iteração 21\n",
      "[ 0.27796434 -0.15079847  0.90715507]\n",
      "iteração 22\n"
     ]
    }
   ],
   "source": [
    "#Escolhemos um chute inicial\n",
    "x = [1,2,3]\n",
    "\n",
    "#Iteramos várias vezes\n",
    "for i in range(200):\n",
    "    print('iteração', i)\n",
    "    y = np.dot(D_inversa, (b - np.dot(R,x)))\n",
    "    delta = np.sum(np.abs(x - y))\n",
    "    if delta < 1e-3:\n",
    "        break\n",
    "    x = y\n",
    "    print(x)"
   ]
  },
  {
   "cell_type": "code",
   "execution_count": 46,
   "metadata": {
    "collapsed": true
   },
   "outputs": [],
   "source": [
    "def solve(M,b, max_iter=100, tol=1e-5):\n",
    "    \"\"\"\n",
    "    Resolve o sistema linear M x = b, retornando x.\n",
    "    \n",
    "    Utiliza o método de Jacobi\n",
    "    \"\"\"\n",
    "    M = np.asarray(M)\n",
    "    b = np.asarray(b)\n",
    "    \n",
    "    #Extrai D Dinv e R\n",
    "    diagonal_vetor = np.diag(M)\n",
    "    D = np.diag(diagonal_vetor)\n",
    "    Dinv = np.diag(1/diagonal_vetor)\n",
    "    R = M - D\n",
    "    \n",
    "    #Realiza o loop inicial\n",
    "    x = b\n",
    "    for i in range(max_iter):\n",
    "        x_ = np.dot(Dinv, (b - np.dot(R,x)))\n",
    "        if np.sum(np.abs(x - x_)) < tol:\n",
    "            return x_\n",
    "        x = x_\n",
    "    return ValueError('método não convergiu!')"
   ]
  },
  {
   "cell_type": "code",
   "execution_count": 47,
   "metadata": {},
   "outputs": [
    {
     "data": {
      "text/plain": [
       "array([ 0.27842366, -0.15081033,  0.90719361])"
      ]
     },
     "execution_count": 47,
     "metadata": {},
     "output_type": "execute_result"
    }
   ],
   "source": [
    "solve(M,b)"
   ]
  },
  {
   "cell_type": "code",
   "execution_count": null,
   "metadata": {
    "collapsed": true
   },
   "outputs": [],
   "source": []
  }
 ],
 "metadata": {
  "kernelspec": {
   "display_name": "Python 3",
   "language": "python",
   "name": "python3"
  },
  "language_info": {
   "codemirror_mode": {
    "name": "ipython",
    "version": 3
   },
   "file_extension": ".py",
   "mimetype": "text/x-python",
   "name": "python",
   "nbconvert_exporter": "python",
   "pygments_lexer": "ipython3",
   "version": "3.6.1"
  }
 },
 "nbformat": 4,
 "nbformat_minor": 2
}
